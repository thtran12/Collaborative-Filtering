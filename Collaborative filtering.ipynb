{
 "cells": [
  {
   "cell_type": "code",
   "execution_count": 321,
   "metadata": {},
   "outputs": [],
   "source": [
    "import gzip\n",
    "from collections import defaultdict\n",
    "import random\n",
    "import math\n",
    "import numpy as np\n",
    "from prettytable import PrettyTable\n",
    "import matplotlib.pyplot as plt\n",
    "%matplotlib inline"
   ]
  },
  {
   "cell_type": "code",
   "execution_count": 258,
   "metadata": {},
   "outputs": [],
   "source": [
    "def parse(f):\n",
    "    for l in gzip.open(f):\n",
    "        yield eval(l)"
   ]
  },
  {
   "cell_type": "code",
   "execution_count": 342,
   "metadata": {},
   "outputs": [],
   "source": [
    "# read data from file\n",
    "file = \"./goodreads_reviews_comics_graphic.json.gz\"\n",
    "data = list(parse(file))"
   ]
  },
  {
   "cell_type": "code",
   "execution_count": 260,
   "metadata": {},
   "outputs": [],
   "source": [
    "# Data structures used in different models\n",
    "reviewsPerUser = defaultdict(list)\n",
    "reviewsPerItem = defaultdict(list)\n",
    "usersPerItem = defaultdict(set)\n",
    "itemsPerUser = defaultdict(set)\n",
    "ratings = []"
   ]
  },
  {
   "cell_type": "code",
   "execution_count": 261,
   "metadata": {},
   "outputs": [],
   "source": [
    "for d in data:\n",
    "    user,item = d['user_id'],d['book_id']\n",
    "    reviewsPerUser[user].append(d)\n",
    "    reviewsPerItem[item].append(d)\n",
    "    usersPerItem[item].add(user)\n",
    "    itemsPerUser[user].add(item)\n",
    "    ratings.append(d['rating'])"
   ]
  },
  {
   "cell_type": "markdown",
   "metadata": {},
   "source": [
    "### Data analysis ###\n",
    "Our dataset consists of 542338 book reviews. Each contains information such as the user_id, book_id, rating, review_text, date when it was added and updated, etc. In our predicting models based on collaborative filtering we only need information on user-book relationships and the ratings given by a user to a book."
   ]
  },
  {
   "cell_type": "code",
   "execution_count": 287,
   "metadata": {},
   "outputs": [
    {
     "data": {
      "text/plain": [
       "{'user_id': 'bafc2d50014200cda7cb2b6acd60cd73',\n",
       " 'book_id': '6315584',\n",
       " 'review_id': '72f1229aba5a88f9e72f0dcdc007dd22',\n",
       " 'rating': 4,\n",
       " 'review_text': \"I've never really liked Spider-Man. I am, however, a huge fan of the Dresden Files. Jim Butcher is clever and sarcastic and probably the perfect choice to pen a superhero novel. I really enjoyed this book!\",\n",
       " 'date_added': 'Wed Aug 10 06:06:48 -0700 2016',\n",
       " 'date_updated': 'Fri Aug 12 08:49:54 -0700 2016',\n",
       " 'read_at': 'Fri Aug 12 08:49:54 -0700 2016',\n",
       " 'started_at': 'Wed Aug 10 00:00:00 -0700 2016',\n",
       " 'n_votes': 0,\n",
       " 'n_comments': 0}"
      ]
     },
     "execution_count": 287,
     "metadata": {},
     "output_type": "execute_result"
    }
   ],
   "source": [
    "data[1]"
   ]
  },
  {
   "cell_type": "markdown",
   "metadata": {},
   "source": [
    "59347 users wrote 542338 reviews to 89311 books. The ratings ranged from 0 to 5 with the average rating being around 3.8."
   ]
  },
  {
   "cell_type": "code",
   "execution_count": 294,
   "metadata": {},
   "outputs": [
    {
     "name": "stdout",
     "output_type": "stream",
     "text": [
      "+--------------+------------+------------+------------+------------+-------------------+\n",
      "| # of reviews | # of users | # of books | min rating | max rating |   average rating  |\n",
      "+--------------+------------+------------+------------+------------+-------------------+\n",
      "|    542338    |   59347    |   89311    |     0      |     5      | 3.778138356523054 |\n",
      "+--------------+------------+------------+------------+------------+-------------------+\n"
     ]
    }
   ],
   "source": [
    "t = PrettyTable(['# of reviews', '# of users','# of books','min rating','max rating','average rating'])\n",
    "t.add_row([len(data),len(itemsPerUser),len(usersPerItem),min(ratings),max(ratings),sum(ratings)/len(ratings)])\n",
    "print(t)"
   ]
  },
  {
   "cell_type": "code",
   "execution_count": 307,
   "metadata": {},
   "outputs": [
    {
     "name": "stdout",
     "output_type": "stream",
     "text": [
      "Users with the highest number of reviews [2850, 2760, 1877, 1631, 1482]\n"
     ]
    }
   ],
   "source": [
    "reviewsPerUseruCount = [(len(reviewsPerUser[u])) for u in reviewsPerUser]\n",
    "reviewsPerUserCount.sort()\n",
    "reviewsPerUserCount.reverse()\n",
    "print('Users with the highest number of reviews', reviewsPerUserCount[:5])"
   ]
  },
  {
   "cell_type": "code",
   "execution_count": 308,
   "metadata": {},
   "outputs": [
    {
     "name": "stdout",
     "output_type": "stream",
     "text": [
      "Books with the highest number of reviews [2953, 2151, 1757, 1742, 1639]\n"
     ]
    }
   ],
   "source": [
    "reviewsPerItemCount = [(len(reviewsPerItem[i])) for i in reviewsPerItem]\n",
    "reviewsPerItemCount.sort()\n",
    "reviewsPerItemCount.reverse()\n",
    "print('Books with the highest number of reviews', reviewsPerItemCount[:5])"
   ]
  },
  {
   "cell_type": "code",
   "execution_count": 341,
   "metadata": {},
   "outputs": [
    {
     "data": {
      "image/png": "[encoded data removed]",
      "text/plain": [
       "<Figure size 720x576 with 1 Axes>"
      ]
     },
     "metadata": {
      "needs_background": "light"
     },
     "output_type": "display_data"
    }
   ],
   "source": [
    "uCounter = defaultdict(int)\n",
    "for x in reviewsPerUserCount: uCounter[x]+=1\n",
    "hist,bin_edges = np.histogram(reviewsPerUserCount, density=True)\n",
    "plt.figure(figsize=[10,8])\n",
    "plt.bar(bin_edges[:-1], hist, width = 0.5, color='#0504aa',alpha=0.7)\n",
    "plt.xlim(min(bin_edges), max(bin_edges))\n",
    "plt.ylim(min(hist), max(hist))\n",
    "plt.grid(axis='y', alpha=0.75)\n",
    "plt.xlabel('Value',fontsize=15)\n",
    "plt.ylabel('Frequency',fontsize=15)\n",
    "plt.xticks(fontsize=15)\n",
    "plt.yticks(fontsize=15)\n",
    "plt.ylabel('Frequency',fontsize=15)\n",
    "plt.title('Normal Distribution Histogram',fontsize=15)\n",
    "plt.show()"
   ]
  },
  {
   "cell_type": "markdown",
   "metadata": {},
   "source": [
    "### Baseline ###\n",
    "For the baseline we will have a model always predicting the average rating."
   ]
  },
  {
   "cell_type": "code",
   "execution_count": 263,
   "metadata": {},
   "outputs": [],
   "source": [
    "def MSE(predictions,labels):\n",
    "    difference = [(p-l)**2 for p,l in zip(predictions,labels)]\n",
    "    return sum(difference)/len(difference)"
   ]
  },
  {
   "cell_type": "code",
   "execution_count": 262,
   "metadata": {},
   "outputs": [
    {
     "name": "stdout",
     "output_type": "stream",
     "text": [
      "mean:  3.778138356523054\n",
      "MSE of the baseline:  1.2419086739076417\n"
     ]
    }
   ],
   "source": [
    "ratingMean = sum(ratings)/len(ratings)\n",
    "print(\"mean: \",ratingMean)\n",
    "# Baseline prediction\n",
    "alwaysPredictMean = [ratingMean for d in sample]\n",
    "# Baseline accuracy\n",
    "baselineMean = MSE(alwaysPredictMean, sampleLabels)\n",
    "print(\"MSE of the baseline: \", baselineMean)"
   ]
  },
  {
   "cell_type": "markdown",
   "metadata": {},
   "source": [
    "### Collaborative filtering ###"
   ]
  },
  {
   "cell_type": "markdown",
   "metadata": {},
   "source": [
    "Different similarity functions"
   ]
  },
  {
   "cell_type": "code",
   "execution_count": 264,
   "metadata": {},
   "outputs": [],
   "source": [
    "def Jaccard(s1, s2):\n",
    "    numer = len(s1.intersection(s2))\n",
    "    denom = len(s1.union(s2))\n",
    "    return numer/denom"
   ]
  },
  {
   "cell_type": "code",
   "execution_count": 265,
   "metadata": {},
   "outputs": [],
   "source": [
    "def Pearson(i1,i2):\n",
    "    u1 = usersPerItem[i1]\n",
    "    u2 = usersPerItem[i2]\n",
    "    common = u1.intersection(u2)\n",
    "    num = []\n",
    "    denom1 = []\n",
    "    denom2 = []\n",
    "    ratingsI1 = [d['rating'] for d in reviewsPerItem[i1]]\n",
    "    ratingsI2 = [d['rating'] for d in reviewsPerItem[i2]]\n",
    "    averageI1 = sum(ratingsI1)/len(ratingsI1)\n",
    "    averageI2 = sum(ratingsI2)/len(ratingsI2)\n",
    "    if common:\n",
    "        for u in common:\n",
    "            # take an average of ratings in case user rated a book multiple times\n",
    "            ratingsU1 = []\n",
    "            ratingsU2 = []\n",
    "            for d in reviewsPerUser[u]:\n",
    "                if d['book_id']==i1: ratingsU1.append(d['rating'])\n",
    "                if d['book_id']==i2: ratingsU2.append(d['rating'])\n",
    "            ratingU1 = sum(ratingsU1)/len(ratingsU1)\n",
    "            ratingU2 = sum(ratingsU2)/len(ratingsU2)\n",
    "            num.append((ratingU1-averageI1)*(ratingU2-averageI2))\n",
    "            denom1.append((ratingU1-averageI1)**2)\n",
    "            denom2.append((ratingU2-averageI2)**2)\n",
    "        if math.sqrt(sum(denom1)*sum(denom2)) != 0:\n",
    "            # normalize to 0-1 value\n",
    "            return ((sum(num)/(math.sqrt(sum(denom1)*sum(denom2))))+1)/2\n",
    "        else: return 0\n",
    "    else: return 0"
   ]
  },
  {
   "cell_type": "code",
   "execution_count": 266,
   "metadata": {},
   "outputs": [],
   "source": [
    "# two items are similar if they were rated similarly by the same users\n",
    "# it's not necessary for the two items to be only rated by the same users\n",
    "# similarity doesn't depend on the other users who rated only one of the two items\n",
    "def Cosine(i1,i2):\n",
    "    u1 = usersPerItem[i1]\n",
    "    u2 = usersPerItem[i2]\n",
    "    common = u1.intersection(u2)\n",
    "    num = []\n",
    "    denom1 = []\n",
    "    denom2 = [] \n",
    "    if common:\n",
    "        for u in common:\n",
    "            ratingsI1 = []\n",
    "            ratingsI2 = []\n",
    "            for d in reviewsPerUser[u]:\n",
    "                if d['book_id']==i1: ratingsI1.append(d['rating']) \n",
    "                if d['book_id']==i2: ratingsI2.append(d['rating'])\n",
    "            ratingI1 = sum(ratingsI1)/len(ratingsI1)\n",
    "            ratingI2 = sum(ratingsI2)/len(ratingsI2)\n",
    "            num.append(ratingI1*ratingI2)\n",
    "            denom1.append(ratingI1**2)\n",
    "            denom2.append(ratingI2**2)\n",
    "        if math.sqrt(sum(denom1)*sum(denom2)) != 0:\n",
    "            return (sum(num)/(math.sqrt(sum(denom1)*sum(denom2))))\n",
    "        else: return 0\n",
    "    else: return 0"
   ]
  },
  {
   "cell_type": "markdown",
   "metadata": {},
   "source": [
    "### Item-based collaborative filtering ###"
   ]
  },
  {
   "cell_type": "code",
   "execution_count": 267,
   "metadata": {},
   "outputs": [],
   "source": [
    "def predictRating(user,item,simFunction):\n",
    "    ratingsU = []\n",
    "    similarities = []\n",
    "    reviewsU = reviewsPerUser[user]\n",
    "    for r in reviewsU:\n",
    "        item2 = r['book_id']\n",
    "        if item2 != item:\n",
    "            ratingsU.append(r['rating'])\n",
    "            if simFunction == 'Jaccard': similarities.append(Jaccard(usersPerItem[item],usersPerItem[item2]))\n",
    "            elif simFunction == 'Pearson': similarities.append(Pearson(item,item2))\n",
    "            elif simFunction == 'Cosine': similarities.append(Cosine(item,item2))\n",
    "    if (sum(similarities)>0):\n",
    "        weightedRatings = [(x*y) for x,y in zip(ratingsU,similarities)]\n",
    "        return sum(weightedRatings)/sum(similarities)\n",
    "    else:\n",
    "        return ratingMean"
   ]
  },
  {
   "cell_type": "code",
   "execution_count": 268,
   "metadata": {},
   "outputs": [],
   "source": [
    "sample = random.sample(data, 1000)\n",
    "sampleLabels = [d['rating'] for d in sample]"
   ]
  },
  {
   "cell_type": "code",
   "execution_count": 269,
   "metadata": {},
   "outputs": [],
   "source": [
    "# Collaborative filtering using Jaccard similarity\n",
    "cfJaccard = [predictRating(d['user_id'], d['book_id'], 'Jaccard') for d in sample]\n",
    "# Collaborative filtering using Pearson similarity\n",
    "cfPearson = [predictRating(d['user_id'], d['book_id'], 'Pearson') for d in sample]\n",
    "# Collaborative filtering using Cosine similarity\n",
    "cfCosine = [predictRating(d['user_id'], d['book_id'], 'Cosine') for d in sample]"
   ]
  },
  {
   "cell_type": "code",
   "execution_count": 270,
   "metadata": {},
   "outputs": [
    {
     "name": "stdout",
     "output_type": "stream",
     "text": [
      "+---------------+--------------------+--------------------+--------------------+\n",
      "| Actual rating |      Jaccard       |      Pearson       |       Cosine       |\n",
      "+---------------+--------------------+--------------------+--------------------+\n",
      "|       4       | 4.177317620621259  | 4.227613621426461  | 4.097173920957406  |\n",
      "|       5       |        5.0         |        5.0         | 4.999999999999999  |\n",
      "|       5       | 4.215851236548516  | 4.180724712546032  | 4.1264906163421236 |\n",
      "|       4       | 3.9946573332033215 | 3.607718974879154  | 4.016388876631201  |\n",
      "|       4       | 3.534522230182753  | 4.405163836567944  | 3.6814085829954006 |\n",
      "|       4       | 3.2936960763948213 | 3.1275899583012223 | 3.251437322098181  |\n",
      "|       3       | 3.263941338022942  | 2.747045823296381  | 3.307330804421289  |\n",
      "|       4       | 3.0682452309852866 | 2.8447702049508163 | 3.1200425360100685 |\n",
      "|       3       | 3.500327787541337  | 3.020143161707952  | 3.6547231203578274 |\n",
      "|       4       | 4.117412041084995  | 3.2430487447740233 |  4.25920731985178  |\n",
      "+---------------+--------------------+--------------------+--------------------+\n"
     ]
    }
   ],
   "source": [
    "e = [(a,b,c,d) for a,b,c,d in zip(sampleLabels,cfJaccard,cfPearson,cfCosine)]\n",
    "t = PrettyTable(['Actual rating', 'Jaccard','Pearson','Cosine'])\n",
    "for r in e[:10]:\n",
    "    t.add_row([r[0],r[1],r[2],r[3]])\n",
    "print(t)"
   ]
  },
  {
   "cell_type": "code",
   "execution_count": 271,
   "metadata": {},
   "outputs": [],
   "source": [
    "# Collaborative filtering using Jaccard similarity accuracy\n",
    "jaccardMean = MSE(cfJaccard, sampleLabels)\n",
    "# Collaborative filtering using Pearson similarity accuracy\n",
    "pearsonMean = MSE(cfPearson, sampleLabels)\n",
    "# Collaborative filtering using Cosine similarity accuracy\n",
    "cosineMean = MSE(cfCosine, sampleLabels)"
   ]
  },
  {
   "cell_type": "code",
   "execution_count": 272,
   "metadata": {},
   "outputs": [
    {
     "name": "stdout",
     "output_type": "stream",
     "text": [
      "+--------------------+--------------------+--------------------+--------------------+\n",
      "|      Baseline      |      Jaccard       |      Pearson       |       Cosine       |\n",
      "+--------------------+--------------------+--------------------+--------------------+\n",
      "| 1.2419086739076417 | 1.1889606213456008 | 0.9005357309111561 | 1.1838656107222214 |\n",
      "+--------------------+--------------------+--------------------+--------------------+\n"
     ]
    }
   ],
   "source": [
    "t = PrettyTable(['Baseline', 'Jaccard','Pearson','Cosine'])\n",
    "t.add_row([baselineMean,jaccardMean,pearsonMean,cosineMean])\n",
    "print(t)"
   ]
  },
  {
   "cell_type": "markdown",
   "metadata": {},
   "source": [
    "### User-based collaborative filtering ###"
   ]
  },
  {
   "cell_type": "code",
   "execution_count": 273,
   "metadata": {},
   "outputs": [],
   "source": [
    "def Pearson2(u1,u2):\n",
    "    i1 = itemsPerUser[u1]\n",
    "    i2 = itemsPerUser[u2]\n",
    "    common = i1.intersection(i2)\n",
    "    num = []\n",
    "    denom1 = []\n",
    "    denom2 = []\n",
    "    ratingsI1 = [d['rating'] for d in reviewsPerUser[u1]]\n",
    "    ratingsI2 = [d['rating'] for d in reviewsPerUser[u2]]\n",
    "    averageI1 = sum(ratingsI1)/len(ratingsI1)\n",
    "    averageI2 = sum(ratingsI2)/len(ratingsI2)\n",
    "    if common:\n",
    "        for i in common:\n",
    "            # take an average of ratings in case user rated a book multiple times\n",
    "            ratingsU1 = []\n",
    "            ratingsU2 = []\n",
    "            for d in reviewsPerItem[i]:\n",
    "                if d['user_id']==u1: ratingsU1.append(d['rating'])\n",
    "                if d['user_id']==u2: ratingsU2.append(d['rating'])\n",
    "            ratingU1 = sum(ratingsU1)/len(ratingsU1)\n",
    "            ratingU2 = sum(ratingsU2)/len(ratingsU2)\n",
    "            num.append((ratingU1-averageI1)*(ratingU2-averageI2))\n",
    "            denom1.append((ratingU1-averageI1)**2)\n",
    "            denom2.append((ratingU2-averageI2)**2)\n",
    "        if math.sqrt(sum(denom1)*sum(denom2)) != 0:\n",
    "            # normalize to 0-1 value\n",
    "            return ((sum(num)/(math.sqrt(sum(denom1)*sum(denom2))))+1)/2\n",
    "        else: return 0\n",
    "    else: return 0"
   ]
  },
  {
   "cell_type": "code",
   "execution_count": 274,
   "metadata": {},
   "outputs": [],
   "source": [
    "# two items are similar if they were rated similarly by the same users\n",
    "# it's not necessary for the two items to be only rated by the same users\n",
    "# similarity doesn't depend on the other users who rated only one of the two items\n",
    "def Cosine2(u1,u2):\n",
    "    i1 = itemsPerUser[u1]\n",
    "    i2 = itemsPerUser[u2]\n",
    "    common = i1.intersection(i2)\n",
    "    num = []\n",
    "    denom1 = []\n",
    "    denom2 = [] \n",
    "    if common:\n",
    "        for i in common:\n",
    "            ratingsI1 = []\n",
    "            ratingsI2 = []\n",
    "            for d in reviewsPerItem[i]:\n",
    "                if d['user_id']==u1: ratingsI1.append(d['rating']) \n",
    "                if d['user_id']==u2: ratingsI2.append(d['rating'])\n",
    "            ratingI1 = sum(ratingsI1)/len(ratingsI1)\n",
    "            ratingI2 = sum(ratingsI2)/len(ratingsI2)\n",
    "            num.append(ratingI1*ratingI2)\n",
    "            denom1.append(ratingI1**2)\n",
    "            denom2.append(ratingI2**2)\n",
    "        if math.sqrt(sum(denom1)*sum(denom2)) != 0:\n",
    "            return (sum(num)/(math.sqrt(sum(denom1)*sum(denom2))))\n",
    "        else: return 0\n",
    "    else: return 0"
   ]
  },
  {
   "cell_type": "code",
   "execution_count": 279,
   "metadata": {},
   "outputs": [],
   "source": [
    "def predictRating2(user,item,simFunction):\n",
    "    ratingsI = [] \n",
    "    similarities = []\n",
    "    reviewsI = reviewsPerItem[item]\n",
    "    for r in reviewsI:\n",
    "        user2 = r['user_id']\n",
    "        if user2 != user:\n",
    "            ratingsI.append(r['rating'])\n",
    "            if simFunction == 'Jaccard': similarities.append(Jaccard(itemsPerUser[user],itemsPerUser[user2]))\n",
    "            elif simFunction == 'Pearson': similarities.append(Pearson2(user,user2))\n",
    "            elif simFunction == 'Cosine': similarities.append(Cosine2(user,user2))\n",
    "    if (sum(similarities)>0):\n",
    "        weightedRatings = [(x*y) for x,y in zip(ratingsI,similarities)]\n",
    "        return sum(weightedRatings)/sum(similarities)\n",
    "    else:\n",
    "        return ratingMean"
   ]
  },
  {
   "cell_type": "code",
   "execution_count": 280,
   "metadata": {},
   "outputs": [],
   "source": [
    "# Collaborative filtering using Jaccard similarity\n",
    "cfJaccard = [predictRating2(d['user_id'], d['book_id'], 'Jaccard') for d in sample]"
   ]
  },
  {
   "cell_type": "code",
   "execution_count": 281,
   "metadata": {},
   "outputs": [],
   "source": [
    "# Collaborative filtering using Pearson similarity\n",
    "cfPearson = [predictRating2(d['user_id'], d['book_id'], 'Pearson') for d in sample]"
   ]
  },
  {
   "cell_type": "code",
   "execution_count": 282,
   "metadata": {},
   "outputs": [],
   "source": [
    "# Collaborative filtering using Cosine similarity\n",
    "cfCosine = [predictRating2(d['user_id'], d['book_id'], 'Cosine') for d in sample]"
   ]
  },
  {
   "cell_type": "code",
   "execution_count": 283,
   "metadata": {},
   "outputs": [
    {
     "name": "stdout",
     "output_type": "stream",
     "text": [
      "+---------------+--------------------+-------------------+--------------------+\n",
      "| Actual rating |      Jaccard       |      Pearson      |       Cosine       |\n",
      "+---------------+--------------------+-------------------+--------------------+\n",
      "|       4       | 3.9309659571724844 | 3.634569102382883 | 4.031498274640546  |\n",
      "|       5       | 4.591164799582852  | 3.778138356523054 | 4.374659603929579  |\n",
      "|       5       | 3.8767190762447186 | 4.382285577718255 | 3.9403808468835457 |\n",
      "|       4       | 4.1655798012818135 | 4.001213524045969 | 4.162238155191455  |\n",
      "|       4       | 2.677064220183486  | 4.021994985878709 | 3.4866028503133712 |\n",
      "|       4       | 4.043337591401535  | 4.412435555441704 | 4.1168247965542495 |\n",
      "|       3       | 4.402808815162322  | 4.269502398210095 | 4.452452261197568  |\n",
      "|       4       | 4.818461410581439  | 4.601111932581552 | 4.663377938479384  |\n",
      "|       3       | 3.0803213727864684 |  3.61660362653899 | 4.205730338544932  |\n",
      "|       4       | 4.633100643558225  | 4.021059691442917 | 4.426366678055045  |\n",
      "+---------------+--------------------+-------------------+--------------------+\n"
     ]
    }
   ],
   "source": [
    "e = [(a,b,c,d) for a,b,c,d in zip(sampleLabels,cfJaccard,cfPearson,cfCosine)]\n",
    "t = PrettyTable(['Actual rating', 'Jaccard','Pearson','Cosine'])\n",
    "for r in e[:10]:\n",
    "    t.add_row([r[0],r[1],r[2],r[3]])\n",
    "print(t)"
   ]
  },
  {
   "cell_type": "code",
   "execution_count": 284,
   "metadata": {},
   "outputs": [],
   "source": [
    "# Collaborative filtering using Jaccard similarity accuracy\n",
    "jaccardMean = MSE(cfJaccard, sampleLabels)\n",
    "# Collaborative filtering using Pearson similarity accuracy\n",
    "pearsonMean = MSE(cfPearson, sampleLabels)\n",
    "# Collaborative filtering using Cosine similarity accuracy\n",
    "cosineMean = MSE(cfCosine, sampleLabels)"
   ]
  },
  {
   "cell_type": "code",
   "execution_count": 285,
   "metadata": {},
   "outputs": [
    {
     "name": "stdout",
     "output_type": "stream",
     "text": [
      "+--------------------+--------------------+--------------------+-------------------+\n",
      "|      Baseline      |      Jaccard       |      Pearson       |       Cosine      |\n",
      "+--------------------+--------------------+--------------------+-------------------+\n",
      "| 1.2419086739076417 | 1.3638055917345377 | 1.0278324622457868 | 1.309326145989496 |\n",
      "+--------------------+--------------------+--------------------+-------------------+\n"
     ]
    }
   ],
   "source": [
    "t = PrettyTable(['Baseline', 'Jaccard','Pearson','Cosine'])\n",
    "t.add_row([baselineMean,jaccardMean,pearsonMean,cosineMean])\n",
    "print(t)"
   ]
  }
 ],
 "metadata": {
  "kernelspec": {
   "display_name": "Python 3",
   "language": "python",
   "name": "python3"
  },
  "language_info": {
   "codemirror_mode": {
    "name": "ipython",
    "version": 3
   },
   "file_extension": ".py",
   "mimetype": "text/x-python",
   "name": "python",
   "nbconvert_exporter": "python",
   "pygments_lexer": "ipython3",
   "version": "3.8.5"
  }
 },
 "nbformat": 4,
 "nbformat_minor": 4
}
